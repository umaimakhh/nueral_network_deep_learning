{
  "nbformat": 4,
  "nbformat_minor": 5,
  "metadata": {
    "kernelspec": {
      "display_name": "gpu2",
      "language": "python",
      "name": "gpu2"
    },
    "language_info": {
      "codemirror_mode": {
        "name": "ipython",
        "version": 3
      },
      "file_extension": ".py",
      "mimetype": "text/x-python",
      "name": "python",
      "nbconvert_exporter": "python",
      "pygments_lexer": "ipython3",
      "version": "3.6.13"
    },
    "colab": {
      "name": "UmaimaKhurshidCSC578FinalProject (5).ipynb",
      "provenance": [],
      "collapsed_sections": []
    }
  },
  "cells": [
    {
      "cell_type": "code",
      "metadata": {
        "scrolled": false,
        "colab": {
          "base_uri": "https://localhost:8080/"
        },
        "id": "192dc5ec",
        "outputId": "3d91637e-e1a6-4f01-c797-72463054bfdc"
      },
      "source": [
        "import matplotlib.pyplot as plt\n",
        "import tensorflow as tf\n",
        "print(tf.__version__)  # check the TF version!\n",
        "from tensorflow.keras import utils\n",
        "import pandas as pd\n",
        "import numpy as np\n",
        "import seaborn as sns\n",
        "from sklearn.preprocessing import MinMaxScaler\n",
        "import IPython\n",
        "import IPython.display\n",
        "plt.style.use('seaborn-colorblind')\n",
        "from tensorflow.keras.layers import Dense, BatchNormalization\n",
        "from tensorflow.keras.initializers import RandomNormal, Constant\n",
        "from sklearn.model_selection import train_test_split\n"
      ],
      "id": "192dc5ec",
      "execution_count": 1,
      "outputs": [
        {
          "output_type": "stream",
          "name": "stdout",
          "text": [
            "2.7.0\n"
          ]
        }
      ]
    },
    {
      "cell_type": "code",
      "metadata": {
        "colab": {
          "base_uri": "https://localhost:8080/"
        },
        "id": "74d270ea",
        "outputId": "2bd301e7-a5c0-4c24-fbff-8df305bcbe16"
      },
      "source": [
        "print(plt.style.available)"
      ],
      "id": "74d270ea",
      "execution_count": 2,
      "outputs": [
        {
          "output_type": "stream",
          "name": "stdout",
          "text": [
            "['Solarize_Light2', '_classic_test_patch', 'bmh', 'classic', 'dark_background', 'fast', 'fivethirtyeight', 'ggplot', 'grayscale', 'seaborn', 'seaborn-bright', 'seaborn-colorblind', 'seaborn-dark', 'seaborn-dark-palette', 'seaborn-darkgrid', 'seaborn-deep', 'seaborn-muted', 'seaborn-notebook', 'seaborn-paper', 'seaborn-pastel', 'seaborn-poster', 'seaborn-talk', 'seaborn-ticks', 'seaborn-white', 'seaborn-whitegrid', 'tableau-colorblind10']\n"
          ]
        }
      ]
    },
    {
      "cell_type": "code",
      "metadata": {
        "colab": {
          "base_uri": "https://localhost:8080/",
          "height": 35
        },
        "id": "4b62870f",
        "outputId": "7071dd23-9b0d-42a1-f56a-c6dffa9fe4ba"
      },
      "source": [
        "csv_path = tf.keras.utils.get_file(\n",
        "    origin='https://reed.cs.depaul.edu/peterh/Essays/Metro_Interstate_reduced.csv',\n",
        "    fname='Metro_Interstate_reduced.csv',\n",
        "    cache_dir='/content', cache_subdir='sample_data')\n",
        "\n",
        "csv_path"
      ],
      "id": "4b62870f",
      "execution_count": 3,
      "outputs": [
        {
          "output_type": "execute_result",
          "data": {
            "application/vnd.google.colaboratory.intrinsic+json": {
              "type": "string"
            },
            "text/plain": [
              "'/content/sample_data/Metro_Interstate_reduced.csv'"
            ]
          },
          "metadata": {},
          "execution_count": 3
        }
      ]
    },
    {
      "cell_type": "code",
      "metadata": {
        "colab": {
          "base_uri": "https://localhost:8080/",
          "height": 35
        },
        "id": "044a45d2",
        "outputId": "5271b671-7820-4aa5-8774-fd829cbe3969"
      },
      "source": [
        "csv_path"
      ],
      "id": "044a45d2",
      "execution_count": 4,
      "outputs": [
        {
          "output_type": "execute_result",
          "data": {
            "application/vnd.google.colaboratory.intrinsic+json": {
              "type": "string"
            },
            "text/plain": [
              "'/content/sample_data/Metro_Interstate_reduced.csv'"
            ]
          },
          "metadata": {},
          "execution_count": 4
        }
      ]
    },
    {
      "cell_type": "markdown",
      "metadata": {
        "id": "e5b244ba"
      },
      "source": [
        "## Data Analysis and Preprocessing"
      ],
      "id": "e5b244ba"
    },
    {
      "cell_type": "code",
      "metadata": {
        "scrolled": true,
        "colab": {
          "base_uri": "https://localhost:8080/",
          "height": 206
        },
        "id": "03b1a6a7",
        "outputId": "44089da8-1661-4143-d04d-86eeb358ba0a"
      },
      "source": [
        "data = pd.read_csv(\n",
        "    \"https://reed.cs.depaul.edu/peterh/Essays/Metro_Interstate_reduced.csv\",\n",
        ")\n",
        "\n",
        "data.head()"
      ],
      "id": "03b1a6a7",
      "execution_count": 5,
      "outputs": [
        {
          "output_type": "execute_result",
          "data": {
            "text/html": [
              "<div>\n",
              "<style scoped>\n",
              "    .dataframe tbody tr th:only-of-type {\n",
              "        vertical-align: middle;\n",
              "    }\n",
              "\n",
              "    .dataframe tbody tr th {\n",
              "        vertical-align: top;\n",
              "    }\n",
              "\n",
              "    .dataframe thead th {\n",
              "        text-align: right;\n",
              "    }\n",
              "</style>\n",
              "<table border=\"1\" class=\"dataframe\">\n",
              "  <thead>\n",
              "    <tr style=\"text-align: right;\">\n",
              "      <th></th>\n",
              "      <th>holiday</th>\n",
              "      <th>temp</th>\n",
              "      <th>rain_1h</th>\n",
              "      <th>snow_1h</th>\n",
              "      <th>clouds_all</th>\n",
              "      <th>weather_main</th>\n",
              "      <th>weather_description</th>\n",
              "      <th>date_time</th>\n",
              "      <th>traffic_volume</th>\n",
              "    </tr>\n",
              "  </thead>\n",
              "  <tbody>\n",
              "    <tr>\n",
              "      <th>0</th>\n",
              "      <td>None</td>\n",
              "      <td>288.28</td>\n",
              "      <td>0.0</td>\n",
              "      <td>0.0</td>\n",
              "      <td>40</td>\n",
              "      <td>Clouds</td>\n",
              "      <td>scattered clouds</td>\n",
              "      <td>2012-10-02 09:00:00</td>\n",
              "      <td>5545</td>\n",
              "    </tr>\n",
              "    <tr>\n",
              "      <th>1</th>\n",
              "      <td>None</td>\n",
              "      <td>289.36</td>\n",
              "      <td>0.0</td>\n",
              "      <td>0.0</td>\n",
              "      <td>75</td>\n",
              "      <td>Clouds</td>\n",
              "      <td>broken clouds</td>\n",
              "      <td>2012-10-02 10:00:00</td>\n",
              "      <td>4516</td>\n",
              "    </tr>\n",
              "    <tr>\n",
              "      <th>2</th>\n",
              "      <td>None</td>\n",
              "      <td>289.58</td>\n",
              "      <td>0.0</td>\n",
              "      <td>0.0</td>\n",
              "      <td>90</td>\n",
              "      <td>Clouds</td>\n",
              "      <td>overcast clouds</td>\n",
              "      <td>2012-10-02 11:00:00</td>\n",
              "      <td>4767</td>\n",
              "    </tr>\n",
              "    <tr>\n",
              "      <th>3</th>\n",
              "      <td>None</td>\n",
              "      <td>290.13</td>\n",
              "      <td>0.0</td>\n",
              "      <td>0.0</td>\n",
              "      <td>90</td>\n",
              "      <td>Clouds</td>\n",
              "      <td>overcast clouds</td>\n",
              "      <td>2012-10-02 12:00:00</td>\n",
              "      <td>5026</td>\n",
              "    </tr>\n",
              "    <tr>\n",
              "      <th>4</th>\n",
              "      <td>None</td>\n",
              "      <td>291.14</td>\n",
              "      <td>0.0</td>\n",
              "      <td>0.0</td>\n",
              "      <td>75</td>\n",
              "      <td>Clouds</td>\n",
              "      <td>broken clouds</td>\n",
              "      <td>2012-10-02 13:00:00</td>\n",
              "      <td>4918</td>\n",
              "    </tr>\n",
              "  </tbody>\n",
              "</table>\n",
              "</div>"
            ],
            "text/plain": [
              "  holiday    temp  ...            date_time  traffic_volume\n",
              "0    None  288.28  ...  2012-10-02 09:00:00            5545\n",
              "1    None  289.36  ...  2012-10-02 10:00:00            4516\n",
              "2    None  289.58  ...  2012-10-02 11:00:00            4767\n",
              "3    None  290.13  ...  2012-10-02 12:00:00            5026\n",
              "4    None  291.14  ...  2012-10-02 13:00:00            4918\n",
              "\n",
              "[5 rows x 9 columns]"
            ]
          },
          "metadata": {},
          "execution_count": 5
        }
      ]
    },
    {
      "cell_type": "markdown",
      "metadata": {
        "id": "bfa8ecec"
      },
      "source": [
        "data.info()"
      ],
      "id": "bfa8ecec"
    },
    {
      "cell_type": "code",
      "metadata": {
        "colab": {
          "base_uri": "https://localhost:8080/"
        },
        "id": "9f3d2b61",
        "outputId": "76bf4cb6-3efd-4fcc-ae71-1ddc70e35e3a"
      },
      "source": [
        "data.info()"
      ],
      "id": "9f3d2b61",
      "execution_count": 6,
      "outputs": [
        {
          "output_type": "stream",
          "name": "stdout",
          "text": [
            "<class 'pandas.core.frame.DataFrame'>\n",
            "RangeIndex: 40575 entries, 0 to 40574\n",
            "Data columns (total 9 columns):\n",
            " #   Column               Non-Null Count  Dtype  \n",
            "---  ------               --------------  -----  \n",
            " 0   holiday              40575 non-null  object \n",
            " 1   temp                 40575 non-null  float64\n",
            " 2   rain_1h              40575 non-null  float64\n",
            " 3   snow_1h              40575 non-null  float64\n",
            " 4   clouds_all           40575 non-null  int64  \n",
            " 5   weather_main         40575 non-null  object \n",
            " 6   weather_description  40575 non-null  object \n",
            " 7   date_time            40575 non-null  object \n",
            " 8   traffic_volume       40575 non-null  int64  \n",
            "dtypes: float64(3), int64(2), object(4)\n",
            "memory usage: 2.8+ MB\n"
          ]
        }
      ]
    },
    {
      "cell_type": "markdown",
      "metadata": {
        "id": "db692258"
      },
      "source": [
        "As we can examine that the date_time column is not in date format we will comvert it into a date object"
      ],
      "id": "db692258"
    },
    {
      "cell_type": "code",
      "metadata": {
        "colab": {
          "base_uri": "https://localhost:8080/",
          "height": 300
        },
        "id": "d5cb3e05",
        "outputId": "371dd865-1baa-4562-d9df-5a010c28c78b"
      },
      "source": [
        "data.describe()"
      ],
      "id": "d5cb3e05",
      "execution_count": 7,
      "outputs": [
        {
          "output_type": "execute_result",
          "data": {
            "text/html": [
              "<div>\n",
              "<style scoped>\n",
              "    .dataframe tbody tr th:only-of-type {\n",
              "        vertical-align: middle;\n",
              "    }\n",
              "\n",
              "    .dataframe tbody tr th {\n",
              "        vertical-align: top;\n",
              "    }\n",
              "\n",
              "    .dataframe thead th {\n",
              "        text-align: right;\n",
              "    }\n",
              "</style>\n",
              "<table border=\"1\" class=\"dataframe\">\n",
              "  <thead>\n",
              "    <tr style=\"text-align: right;\">\n",
              "      <th></th>\n",
              "      <th>temp</th>\n",
              "      <th>rain_1h</th>\n",
              "      <th>snow_1h</th>\n",
              "      <th>clouds_all</th>\n",
              "      <th>traffic_volume</th>\n",
              "    </tr>\n",
              "  </thead>\n",
              "  <tbody>\n",
              "    <tr>\n",
              "      <th>count</th>\n",
              "      <td>40575.000000</td>\n",
              "      <td>40575.000000</td>\n",
              "      <td>40575.000000</td>\n",
              "      <td>40575.000000</td>\n",
              "      <td>40575.000000</td>\n",
              "    </tr>\n",
              "    <tr>\n",
              "      <th>mean</th>\n",
              "      <td>281.316763</td>\n",
              "      <td>0.318632</td>\n",
              "      <td>0.000117</td>\n",
              "      <td>44.199162</td>\n",
              "      <td>3290.650474</td>\n",
              "    </tr>\n",
              "    <tr>\n",
              "      <th>std</th>\n",
              "      <td>13.816618</td>\n",
              "      <td>48.812640</td>\n",
              "      <td>0.005676</td>\n",
              "      <td>38.683447</td>\n",
              "      <td>1984.772909</td>\n",
              "    </tr>\n",
              "    <tr>\n",
              "      <th>min</th>\n",
              "      <td>0.000000</td>\n",
              "      <td>0.000000</td>\n",
              "      <td>0.000000</td>\n",
              "      <td>0.000000</td>\n",
              "      <td>0.000000</td>\n",
              "    </tr>\n",
              "    <tr>\n",
              "      <th>25%</th>\n",
              "      <td>271.840000</td>\n",
              "      <td>0.000000</td>\n",
              "      <td>0.000000</td>\n",
              "      <td>1.000000</td>\n",
              "      <td>1248.500000</td>\n",
              "    </tr>\n",
              "    <tr>\n",
              "      <th>50%</th>\n",
              "      <td>282.860000</td>\n",
              "      <td>0.000000</td>\n",
              "      <td>0.000000</td>\n",
              "      <td>40.000000</td>\n",
              "      <td>3427.000000</td>\n",
              "    </tr>\n",
              "    <tr>\n",
              "      <th>75%</th>\n",
              "      <td>292.280000</td>\n",
              "      <td>0.000000</td>\n",
              "      <td>0.000000</td>\n",
              "      <td>90.000000</td>\n",
              "      <td>4952.000000</td>\n",
              "    </tr>\n",
              "    <tr>\n",
              "      <th>max</th>\n",
              "      <td>310.070000</td>\n",
              "      <td>9831.300000</td>\n",
              "      <td>0.510000</td>\n",
              "      <td>100.000000</td>\n",
              "      <td>7280.000000</td>\n",
              "    </tr>\n",
              "  </tbody>\n",
              "</table>\n",
              "</div>"
            ],
            "text/plain": [
              "               temp       rain_1h       snow_1h    clouds_all  traffic_volume\n",
              "count  40575.000000  40575.000000  40575.000000  40575.000000    40575.000000\n",
              "mean     281.316763      0.318632      0.000117     44.199162     3290.650474\n",
              "std       13.816618     48.812640      0.005676     38.683447     1984.772909\n",
              "min        0.000000      0.000000      0.000000      0.000000        0.000000\n",
              "25%      271.840000      0.000000      0.000000      1.000000     1248.500000\n",
              "50%      282.860000      0.000000      0.000000     40.000000     3427.000000\n",
              "75%      292.280000      0.000000      0.000000     90.000000     4952.000000\n",
              "max      310.070000   9831.300000      0.510000    100.000000     7280.000000"
            ]
          },
          "metadata": {},
          "execution_count": 7
        }
      ]
    },
    {
      "cell_type": "markdown",
      "metadata": {
        "id": "7d503602"
      },
      "source": [
        "We can exmaine that there is a total of 40575 values in our dataset, the average traffic volume is 3290 while there is also a posibilty of no recorded data in a day this might be beacuse of the NA value. , "
      ],
      "id": "7d503602"
    },
    {
      "cell_type": "code",
      "metadata": {
        "id": "61749a5a"
      },
      "source": [
        "data['date_time']=pd.to_datetime(data['date_time'],infer_datetime_format=True)"
      ],
      "id": "61749a5a",
      "execution_count": 8,
      "outputs": []
    },
    {
      "cell_type": "code",
      "metadata": {
        "colab": {
          "base_uri": "https://localhost:8080/"
        },
        "id": "65bf60bc",
        "outputId": "9872882d-6143-4b35-894b-ee6b4867f9ee"
      },
      "source": [
        "data.info() #now we can verify its in date format"
      ],
      "id": "65bf60bc",
      "execution_count": 9,
      "outputs": [
        {
          "output_type": "stream",
          "name": "stdout",
          "text": [
            "<class 'pandas.core.frame.DataFrame'>\n",
            "RangeIndex: 40575 entries, 0 to 40574\n",
            "Data columns (total 9 columns):\n",
            " #   Column               Non-Null Count  Dtype         \n",
            "---  ------               --------------  -----         \n",
            " 0   holiday              40575 non-null  object        \n",
            " 1   temp                 40575 non-null  float64       \n",
            " 2   rain_1h              40575 non-null  float64       \n",
            " 3   snow_1h              40575 non-null  float64       \n",
            " 4   clouds_all           40575 non-null  int64         \n",
            " 5   weather_main         40575 non-null  object        \n",
            " 6   weather_description  40575 non-null  object        \n",
            " 7   date_time            40575 non-null  datetime64[ns]\n",
            " 8   traffic_volume       40575 non-null  int64         \n",
            "dtypes: datetime64[ns](1), float64(3), int64(2), object(3)\n",
            "memory usage: 2.8+ MB\n"
          ]
        }
      ]
    },
    {
      "cell_type": "code",
      "metadata": {
        "colab": {
          "base_uri": "https://localhost:8080/",
          "height": 287
        },
        "id": "0fe00987",
        "outputId": "694cebb3-97a3-4d29-b29e-850f7e1ceeb8"
      },
      "source": [
        "data.set_index('date_time')['traffic_volume'].plot()"
      ],
      "id": "0fe00987",
      "execution_count": 10,
      "outputs": [
        {
          "output_type": "execute_result",
          "data": {
            "text/plain": [
              "<matplotlib.axes._subplots.AxesSubplot at 0x7f03b561cf10>"
            ]
          },
          "metadata": {},
          "execution_count": 10
        },
        {
          "output_type": "display_data",
          "data": {
            "image/png": "[encoded data removed]",
            "text/plain": [
              "<Figure size 432x288 with 1 Axes>"
            ]
          },
          "metadata": {
            "needs_background": "light"
          }
        }
      ]
    },
    {
      "cell_type": "markdown",
      "metadata": {
        "id": "c79b2472"
      },
      "source": [
        "As we can exmaine form the graph above we cannot understand a good analysis of the traffic value because of the date format, hence we will parse the date object into year week and month into to explore the traffic value. \n"
      ],
      "id": "c79b2472"
    },
    {
      "cell_type": "code",
      "metadata": {
        "id": "e9be073c"
      },
      "source": [
        "def parse_timestamp(df, datetime):\n",
        "    df[datetime] = pd.to_datetime(df[datetime])\n",
        "    df['Year'] = df[datetime].dt.year\n",
        "    df['Month'] = df[datetime].dt.month\n",
        "    df['Weekday'] = df[datetime].dt.weekday\n",
        "    df['Hour'] = df[datetime].dt.hour"
      ],
      "id": "e9be073c",
      "execution_count": 11,
      "outputs": []
    },
    {
      "cell_type": "code",
      "metadata": {
        "colab": {
          "base_uri": "https://localhost:8080/",
          "height": 206
        },
        "id": "a91b7d56",
        "outputId": "b30ffa4c-51ea-4496-ac7e-572021d0bd93"
      },
      "source": [
        "parse_timestamp(data, 'date_time') #note from this we still have the date_time col as it is but have additional cols of dates year month week etc\n",
        "#df['Hour'] = df['Hour'].map(categorize_hour)\n",
        "data.head()"
      ],
      "id": "a91b7d56",
      "execution_count": 12,
      "outputs": [
        {
          "output_type": "execute_result",
          "data": {
            "text/html": [
              "<div>\n",
              "<style scoped>\n",
              "    .dataframe tbody tr th:only-of-type {\n",
              "        vertical-align: middle;\n",
              "    }\n",
              "\n",
              "    .dataframe tbody tr th {\n",
              "        vertical-align: top;\n",
              "    }\n",
              "\n",
              "    .dataframe thead th {\n",
              "        text-align: right;\n",
              "    }\n",
              "</style>\n",
              "<table border=\"1\" class=\"dataframe\">\n",
              "  <thead>\n",
              "    <tr style=\"text-align: right;\">\n",
              "      <th></th>\n",
              "      <th>holiday</th>\n",
              "      <th>temp</th>\n",
              "      <th>rain_1h</th>\n",
              "      <th>snow_1h</th>\n",
              "      <th>clouds_all</th>\n",
              "      <th>weather_main</th>\n",
              "      <th>weather_description</th>\n",
              "      <th>date_time</th>\n",
              "      <th>traffic_volume</th>\n",
              "      <th>Year</th>\n",
              "      <th>Month</th>\n",
              "      <th>Weekday</th>\n",
              "      <th>Hour</th>\n",
              "    </tr>\n",
              "  </thead>\n",
              "  <tbody>\n",
              "    <tr>\n",
              "      <th>0</th>\n",
              "      <td>None</td>\n",
              "      <td>288.28</td>\n",
              "      <td>0.0</td>\n",
              "      <td>0.0</td>\n",
              "      <td>40</td>\n",
              "      <td>Clouds</td>\n",
              "      <td>scattered clouds</td>\n",
              "      <td>2012-10-02 09:00:00</td>\n",
              "      <td>5545</td>\n",
              "      <td>2012</td>\n",
              "      <td>10</td>\n",
              "      <td>1</td>\n",
              "      <td>9</td>\n",
              "    </tr>\n",
              "    <tr>\n",
              "      <th>1</th>\n",
              "      <td>None</td>\n",
              "      <td>289.36</td>\n",
              "      <td>0.0</td>\n",
              "      <td>0.0</td>\n",
              "      <td>75</td>\n",
              "      <td>Clouds</td>\n",
              "      <td>broken clouds</td>\n",
              "      <td>2012-10-02 10:00:00</td>\n",
              "      <td>4516</td>\n",
              "      <td>2012</td>\n",
              "      <td>10</td>\n",
              "      <td>1</td>\n",
              "      <td>10</td>\n",
              "    </tr>\n",
              "    <tr>\n",
              "      <th>2</th>\n",
              "      <td>None</td>\n",
              "      <td>289.58</td>\n",
              "      <td>0.0</td>\n",
              "      <td>0.0</td>\n",
              "      <td>90</td>\n",
              "      <td>Clouds</td>\n",
              "      <td>overcast clouds</td>\n",
              "      <td>2012-10-02 11:00:00</td>\n",
              "      <td>4767</td>\n",
              "      <td>2012</td>\n",
              "      <td>10</td>\n",
              "      <td>1</td>\n",
              "      <td>11</td>\n",
              "    </tr>\n",
              "    <tr>\n",
              "      <th>3</th>\n",
              "      <td>None</td>\n",
              "      <td>290.13</td>\n",
              "      <td>0.0</td>\n",
              "      <td>0.0</td>\n",
              "      <td>90</td>\n",
              "      <td>Clouds</td>\n",
              "      <td>overcast clouds</td>\n",
              "      <td>2012-10-02 12:00:00</td>\n",
              "      <td>5026</td>\n",
              "      <td>2012</td>\n",
              "      <td>10</td>\n",
              "      <td>1</td>\n",
              "      <td>12</td>\n",
              "    </tr>\n",
              "    <tr>\n",
              "      <th>4</th>\n",
              "      <td>None</td>\n",
              "      <td>291.14</td>\n",
              "      <td>0.0</td>\n",
              "      <td>0.0</td>\n",
              "      <td>75</td>\n",
              "      <td>Clouds</td>\n",
              "      <td>broken clouds</td>\n",
              "      <td>2012-10-02 13:00:00</td>\n",
              "      <td>4918</td>\n",
              "      <td>2012</td>\n",
              "      <td>10</td>\n",
              "      <td>1</td>\n",
              "      <td>13</td>\n",
              "    </tr>\n",
              "  </tbody>\n",
              "</table>\n",
              "</div>"
            ],
            "text/plain": [
              "  holiday    temp  rain_1h  snow_1h  ...  Year Month Weekday Hour\n",
              "0    None  288.28      0.0      0.0  ...  2012    10       1    9\n",
              "1    None  289.36      0.0      0.0  ...  2012    10       1   10\n",
              "2    None  289.58      0.0      0.0  ...  2012    10       1   11\n",
              "3    None  290.13      0.0      0.0  ...  2012    10       1   12\n",
              "4    None  291.14      0.0      0.0  ...  2012    10       1   13\n",
              "\n",
              "[5 rows x 13 columns]"
            ]
          },
          "metadata": {},
          "execution_count": 12
        }
      ]
    },
    {
      "cell_type": "code",
      "metadata": {
        "colab": {
          "base_uri": "https://localhost:8080/",
          "height": 238
        },
        "id": "15bf87bd",
        "outputId": "18342046-a8ad-4a27-fb63-309cc4664f79"
      },
      "source": [
        "data.set_index('date_time',inplace = True) #setting the all merged col as index, \n",
        "\n",
        "data.head()"
      ],
      "id": "15bf87bd",
      "execution_count": 13,
      "outputs": [
        {
          "output_type": "execute_result",
          "data": {
            "text/html": [
              "<div>\n",
              "<style scoped>\n",
              "    .dataframe tbody tr th:only-of-type {\n",
              "        vertical-align: middle;\n",
              "    }\n",
              "\n",
              "    .dataframe tbody tr th {\n",
              "        vertical-align: top;\n",
              "    }\n",
              "\n",
              "    .dataframe thead th {\n",
              "        text-align: right;\n",
              "    }\n",
              "</style>\n",
              "<table border=\"1\" class=\"dataframe\">\n",
              "  <thead>\n",
              "    <tr style=\"text-align: right;\">\n",
              "      <th></th>\n",
              "      <th>holiday</th>\n",
              "      <th>temp</th>\n",
              "      <th>rain_1h</th>\n",
              "      <th>snow_1h</th>\n",
              "      <th>clouds_all</th>\n",
              "      <th>weather_main</th>\n",
              "      <th>weather_description</th>\n",
              "      <th>traffic_volume</th>\n",
              "      <th>Year</th>\n",
              "      <th>Month</th>\n",
              "      <th>Weekday</th>\n",
              "      <th>Hour</th>\n",
              "    </tr>\n",
              "    <tr>\n",
              "      <th>date_time</th>\n",
              "      <th></th>\n",
              "      <th></th>\n",
              "      <th></th>\n",
              "      <th></th>\n",
              "      <th></th>\n",
              "      <th></th>\n",
              "      <th></th>\n",
              "      <th></th>\n",
              "      <th></th>\n",
              "      <th></th>\n",
              "      <th></th>\n",
              "      <th></th>\n",
              "    </tr>\n",
              "  </thead>\n",
              "  <tbody>\n",
              "    <tr>\n",
              "      <th>2012-10-02 09:00:00</th>\n",
              "      <td>None</td>\n",
              "      <td>288.28</td>\n",
              "      <td>0.0</td>\n",
              "      <td>0.0</td>\n",
              "      <td>40</td>\n",
              "      <td>Clouds</td>\n",
              "      <td>scattered clouds</td>\n",
              "      <td>5545</td>\n",
              "      <td>2012</td>\n",
              "      <td>10</td>\n",
              "      <td>1</td>\n",
              "      <td>9</td>\n",
              "    </tr>\n",
              "    <tr>\n",
              "      <th>2012-10-02 10:00:00</th>\n",
              "      <td>None</td>\n",
              "      <td>289.36</td>\n",
              "      <td>0.0</td>\n",
              "      <td>0.0</td>\n",
              "      <td>75</td>\n",
              "      <td>Clouds</td>\n",
              "      <td>broken clouds</td>\n",
              "      <td>4516</td>\n",
              "      <td>2012</td>\n",
              "      <td>10</td>\n",
              "      <td>1</td>\n",
              "      <td>10</td>\n",
              "    </tr>\n",
              "    <tr>\n",
              "      <th>2012-10-02 11:00:00</th>\n",
              "      <td>None</td>\n",
              "      <td>289.58</td>\n",
              "      <td>0.0</td>\n",
              "      <td>0.0</td>\n",
              "      <td>90</td>\n",
              "      <td>Clouds</td>\n",
              "      <td>overcast clouds</td>\n",
              "      <td>4767</td>\n",
              "      <td>2012</td>\n",
              "      <td>10</td>\n",
              "      <td>1</td>\n",
              "      <td>11</td>\n",
              "    </tr>\n",
              "    <tr>\n",
              "      <th>2012-10-02 12:00:00</th>\n",
              "      <td>None</td>\n",
              "      <td>290.13</td>\n",
              "      <td>0.0</td>\n",
              "      <td>0.0</td>\n",
              "      <td>90</td>\n",
              "      <td>Clouds</td>\n",
              "      <td>overcast clouds</td>\n",
              "      <td>5026</td>\n",
              "      <td>2012</td>\n",
              "      <td>10</td>\n",
              "      <td>1</td>\n",
              "      <td>12</td>\n",
              "    </tr>\n",
              "    <tr>\n",
              "      <th>2012-10-02 13:00:00</th>\n",
              "      <td>None</td>\n",
              "      <td>291.14</td>\n",
              "      <td>0.0</td>\n",
              "      <td>0.0</td>\n",
              "      <td>75</td>\n",
              "      <td>Clouds</td>\n",
              "      <td>broken clouds</td>\n",
              "      <td>4918</td>\n",
              "      <td>2012</td>\n",
              "      <td>10</td>\n",
              "      <td>1</td>\n",
              "      <td>13</td>\n",
              "    </tr>\n",
              "  </tbody>\n",
              "</table>\n",
              "</div>"
            ],
            "text/plain": [
              "                    holiday    temp  rain_1h  ...  Month  Weekday Hour\n",
              "date_time                                     ...                     \n",
              "2012-10-02 09:00:00    None  288.28      0.0  ...     10        1    9\n",
              "2012-10-02 10:00:00    None  289.36      0.0  ...     10        1   10\n",
              "2012-10-02 11:00:00    None  289.58      0.0  ...     10        1   11\n",
              "2012-10-02 12:00:00    None  290.13      0.0  ...     10        1   12\n",
              "2012-10-02 13:00:00    None  291.14      0.0  ...     10        1   13\n",
              "\n",
              "[5 rows x 12 columns]"
            ]
          },
          "metadata": {},
          "execution_count": 13
        }
      ]
    },
    {
      "cell_type": "markdown",
      "metadata": {
        "id": "e6c63f64"
      },
      "source": [
        "# Preparing data for model use\n"
      ],
      "id": "e6c63f64"
    },
    {
      "cell_type": "markdown",
      "metadata": {
        "id": "6d901a42"
      },
      "source": [
        "I will be going foreward with cloud, temp to predict traffic volume, we can also use one hot encoding to change varibles for weather into binary, but they donot impact that much towards the traffic volume hence we will not use that. "
      ],
      "id": "6d901a42"
    },
    {
      "cell_type": "code",
      "metadata": {
        "colab": {
          "base_uri": "https://localhost:8080/",
          "height": 238
        },
        "id": "d4218273",
        "outputId": "b1d4772c-f17c-402a-f11e-64a99478e194"
      },
      "source": [
        "# data = pd.read_csv(\n",
        "#     \"https://reed.cs.depaul.edu/peterh/Essays/Metro_Interstate_reduced.csv\",\n",
        "# )\n",
        "\n",
        "\n",
        "data.drop(columns = ['weather_description','weather_main','snow_1h','rain_1h','holiday','Year','Month'], inplace = True)\n",
        "\n",
        "data.head() #dropping varibles that wont be used in prediction."
      ],
      "id": "d4218273",
      "execution_count": 14,
      "outputs": [
        {
          "output_type": "execute_result",
          "data": {
            "text/html": [
              "<div>\n",
              "<style scoped>\n",
              "    .dataframe tbody tr th:only-of-type {\n",
              "        vertical-align: middle;\n",
              "    }\n",
              "\n",
              "    .dataframe tbody tr th {\n",
              "        vertical-align: top;\n",
              "    }\n",
              "\n",
              "    .dataframe thead th {\n",
              "        text-align: right;\n",
              "    }\n",
              "</style>\n",
              "<table border=\"1\" class=\"dataframe\">\n",
              "  <thead>\n",
              "    <tr style=\"text-align: right;\">\n",
              "      <th></th>\n",
              "      <th>temp</th>\n",
              "      <th>clouds_all</th>\n",
              "      <th>traffic_volume</th>\n",
              "      <th>Weekday</th>\n",
              "      <th>Hour</th>\n",
              "    </tr>\n",
              "    <tr>\n",
              "      <th>date_time</th>\n",
              "      <th></th>\n",
              "      <th></th>\n",
              "      <th></th>\n",
              "      <th></th>\n",
              "      <th></th>\n",
              "    </tr>\n",
              "  </thead>\n",
              "  <tbody>\n",
              "    <tr>\n",
              "      <th>2012-10-02 09:00:00</th>\n",
              "      <td>288.28</td>\n",
              "      <td>40</td>\n",
              "      <td>5545</td>\n",
              "      <td>1</td>\n",
              "      <td>9</td>\n",
              "    </tr>\n",
              "    <tr>\n",
              "      <th>2012-10-02 10:00:00</th>\n",
              "      <td>289.36</td>\n",
              "      <td>75</td>\n",
              "      <td>4516</td>\n",
              "      <td>1</td>\n",
              "      <td>10</td>\n",
              "    </tr>\n",
              "    <tr>\n",
              "      <th>2012-10-02 11:00:00</th>\n",
              "      <td>289.58</td>\n",
              "      <td>90</td>\n",
              "      <td>4767</td>\n",
              "      <td>1</td>\n",
              "      <td>11</td>\n",
              "    </tr>\n",
              "    <tr>\n",
              "      <th>2012-10-02 12:00:00</th>\n",
              "      <td>290.13</td>\n",
              "      <td>90</td>\n",
              "      <td>5026</td>\n",
              "      <td>1</td>\n",
              "      <td>12</td>\n",
              "    </tr>\n",
              "    <tr>\n",
              "      <th>2012-10-02 13:00:00</th>\n",
              "      <td>291.14</td>\n",
              "      <td>75</td>\n",
              "      <td>4918</td>\n",
              "      <td>1</td>\n",
              "      <td>13</td>\n",
              "    </tr>\n",
              "  </tbody>\n",
              "</table>\n",
              "</div>"
            ],
            "text/plain": [
              "                       temp  clouds_all  traffic_volume  Weekday  Hour\n",
              "date_time                                                             \n",
              "2012-10-02 09:00:00  288.28          40            5545        1     9\n",
              "2012-10-02 10:00:00  289.36          75            4516        1    10\n",
              "2012-10-02 11:00:00  289.58          90            4767        1    11\n",
              "2012-10-02 12:00:00  290.13          90            5026        1    12\n",
              "2012-10-02 13:00:00  291.14          75            4918        1    13"
            ]
          },
          "metadata": {},
          "execution_count": 14
        }
      ]
    },
    {
      "cell_type": "code",
      "metadata": {
        "colab": {
          "base_uri": "https://localhost:8080/",
          "height": 238
        },
        "id": "14689e27",
        "outputId": "a8f82c43-2964-4926-f64b-781567531da1"
      },
      "source": [
        "data.drop(columns = ['Weekday','Hour'], inplace = True)\n",
        "\n",
        "data.head()"
      ],
      "id": "14689e27",
      "execution_count": 15,
      "outputs": [
        {
          "output_type": "execute_result",
          "data": {
            "text/html": [
              "<div>\n",
              "<style scoped>\n",
              "    .dataframe tbody tr th:only-of-type {\n",
              "        vertical-align: middle;\n",
              "    }\n",
              "\n",
              "    .dataframe tbody tr th {\n",
              "        vertical-align: top;\n",
              "    }\n",
              "\n",
              "    .dataframe thead th {\n",
              "        text-align: right;\n",
              "    }\n",
              "</style>\n",
              "<table border=\"1\" class=\"dataframe\">\n",
              "  <thead>\n",
              "    <tr style=\"text-align: right;\">\n",
              "      <th></th>\n",
              "      <th>temp</th>\n",
              "      <th>clouds_all</th>\n",
              "      <th>traffic_volume</th>\n",
              "    </tr>\n",
              "    <tr>\n",
              "      <th>date_time</th>\n",
              "      <th></th>\n",
              "      <th></th>\n",
              "      <th></th>\n",
              "    </tr>\n",
              "  </thead>\n",
              "  <tbody>\n",
              "    <tr>\n",
              "      <th>2012-10-02 09:00:00</th>\n",
              "      <td>288.28</td>\n",
              "      <td>40</td>\n",
              "      <td>5545</td>\n",
              "    </tr>\n",
              "    <tr>\n",
              "      <th>2012-10-02 10:00:00</th>\n",
              "      <td>289.36</td>\n",
              "      <td>75</td>\n",
              "      <td>4516</td>\n",
              "    </tr>\n",
              "    <tr>\n",
              "      <th>2012-10-02 11:00:00</th>\n",
              "      <td>289.58</td>\n",
              "      <td>90</td>\n",
              "      <td>4767</td>\n",
              "    </tr>\n",
              "    <tr>\n",
              "      <th>2012-10-02 12:00:00</th>\n",
              "      <td>290.13</td>\n",
              "      <td>90</td>\n",
              "      <td>5026</td>\n",
              "    </tr>\n",
              "    <tr>\n",
              "      <th>2012-10-02 13:00:00</th>\n",
              "      <td>291.14</td>\n",
              "      <td>75</td>\n",
              "      <td>4918</td>\n",
              "    </tr>\n",
              "  </tbody>\n",
              "</table>\n",
              "</div>"
            ],
            "text/plain": [
              "                       temp  clouds_all  traffic_volume\n",
              "date_time                                              \n",
              "2012-10-02 09:00:00  288.28          40            5545\n",
              "2012-10-02 10:00:00  289.36          75            4516\n",
              "2012-10-02 11:00:00  289.58          90            4767\n",
              "2012-10-02 12:00:00  290.13          90            5026\n",
              "2012-10-02 13:00:00  291.14          75            4918"
            ]
          },
          "metadata": {},
          "execution_count": 15
        }
      ]
    },
    {
      "cell_type": "code",
      "metadata": {
        "id": "e4969927"
      },
      "source": [
        "#data['date_time']=pd.to_datetime(data['date_time'],infer_datetime_format=True)"
      ],
      "id": "e4969927",
      "execution_count": 16,
      "outputs": []
    },
    {
      "cell_type": "code",
      "metadata": {
        "colab": {
          "base_uri": "https://localhost:8080/",
          "height": 238
        },
        "id": "7fcfb789",
        "outputId": "5982146d-285c-4da6-ade8-1295eedc2321"
      },
      "source": [
        "data.head()"
      ],
      "id": "7fcfb789",
      "execution_count": 17,
      "outputs": [
        {
          "output_type": "execute_result",
          "data": {
            "text/html": [
              "<div>\n",
              "<style scoped>\n",
              "    .dataframe tbody tr th:only-of-type {\n",
              "        vertical-align: middle;\n",
              "    }\n",
              "\n",
              "    .dataframe tbody tr th {\n",
              "        vertical-align: top;\n",
              "    }\n",
              "\n",
              "    .dataframe thead th {\n",
              "        text-align: right;\n",
              "    }\n",
              "</style>\n",
              "<table border=\"1\" class=\"dataframe\">\n",
              "  <thead>\n",
              "    <tr style=\"text-align: right;\">\n",
              "      <th></th>\n",
              "      <th>temp</th>\n",
              "      <th>clouds_all</th>\n",
              "      <th>traffic_volume</th>\n",
              "    </tr>\n",
              "    <tr>\n",
              "      <th>date_time</th>\n",
              "      <th></th>\n",
              "      <th></th>\n",
              "      <th></th>\n",
              "    </tr>\n",
              "  </thead>\n",
              "  <tbody>\n",
              "    <tr>\n",
              "      <th>2012-10-02 09:00:00</th>\n",
              "      <td>288.28</td>\n",
              "      <td>40</td>\n",
              "      <td>5545</td>\n",
              "    </tr>\n",
              "    <tr>\n",
              "      <th>2012-10-02 10:00:00</th>\n",
              "      <td>289.36</td>\n",
              "      <td>75</td>\n",
              "      <td>4516</td>\n",
              "    </tr>\n",
              "    <tr>\n",
              "      <th>2012-10-02 11:00:00</th>\n",
              "      <td>289.58</td>\n",
              "      <td>90</td>\n",
              "      <td>4767</td>\n",
              "    </tr>\n",
              "    <tr>\n",
              "      <th>2012-10-02 12:00:00</th>\n",
              "      <td>290.13</td>\n",
              "      <td>90</td>\n",
              "      <td>5026</td>\n",
              "    </tr>\n",
              "    <tr>\n",
              "      <th>2012-10-02 13:00:00</th>\n",
              "      <td>291.14</td>\n",
              "      <td>75</td>\n",
              "      <td>4918</td>\n",
              "    </tr>\n",
              "  </tbody>\n",
              "</table>\n",
              "</div>"
            ],
            "text/plain": [
              "                       temp  clouds_all  traffic_volume\n",
              "date_time                                              \n",
              "2012-10-02 09:00:00  288.28          40            5545\n",
              "2012-10-02 10:00:00  289.36          75            4516\n",
              "2012-10-02 11:00:00  289.58          90            4767\n",
              "2012-10-02 12:00:00  290.13          90            5026\n",
              "2012-10-02 13:00:00  291.14          75            4918"
            ]
          },
          "metadata": {},
          "execution_count": 17
        }
      ]
    },
    {
      "cell_type": "code",
      "metadata": {
        "colab": {
          "base_uri": "https://localhost:8080/"
        },
        "id": "22bcb305",
        "outputId": "53d373a4-a207-4bc9-c0c5-ef263e79974e"
      },
      "source": [
        "test_df = data.tail(4999) #last 4999 used as testing\n",
        "test_df.info()"
      ],
      "id": "22bcb305",
      "execution_count": 18,
      "outputs": [
        {
          "output_type": "stream",
          "name": "stdout",
          "text": [
            "<class 'pandas.core.frame.DataFrame'>\n",
            "DatetimeIndex: 4999 entries, 2018-03-06 00:00:00 to 2018-09-30 23:00:00\n",
            "Data columns (total 3 columns):\n",
            " #   Column          Non-Null Count  Dtype  \n",
            "---  ------          --------------  -----  \n",
            " 0   temp            4999 non-null   float64\n",
            " 1   clouds_all      4999 non-null   int64  \n",
            " 2   traffic_volume  4999 non-null   int64  \n",
            "dtypes: float64(1), int64(2)\n",
            "memory usage: 156.2 KB\n"
          ]
        }
      ]
    },
    {
      "cell_type": "code",
      "metadata": {
        "id": "42043941"
      },
      "source": [
        "y_test = test_df['traffic_volume']\n",
        "X_test = test_df.drop(['traffic_volume'], axis=1) #dropping traffic value from the col"
      ],
      "id": "42043941",
      "execution_count": 19,
      "outputs": []
    },
    {
      "cell_type": "code",
      "metadata": {
        "colab": {
          "base_uri": "https://localhost:8080/"
        },
        "id": "c6285fdb",
        "outputId": "3381ef25-7cbf-455f-ca48-2c786dcd564f"
      },
      "source": [
        "data.info()"
      ],
      "id": "c6285fdb",
      "execution_count": 20,
      "outputs": [
        {
          "output_type": "stream",
          "name": "stdout",
          "text": [
            "<class 'pandas.core.frame.DataFrame'>\n",
            "DatetimeIndex: 40575 entries, 2012-10-02 09:00:00 to 2018-09-30 23:00:00\n",
            "Data columns (total 3 columns):\n",
            " #   Column          Non-Null Count  Dtype  \n",
            "---  ------          --------------  -----  \n",
            " 0   temp            40575 non-null  float64\n",
            " 1   clouds_all      40575 non-null  int64  \n",
            " 2   traffic_volume  40575 non-null  int64  \n",
            "dtypes: float64(1), int64(2)\n",
            "memory usage: 1.2 MB\n"
          ]
        }
      ]
    },
    {
      "cell_type": "code",
      "metadata": {
        "colab": {
          "base_uri": "https://localhost:8080/"
        },
        "id": "03ef08d4",
        "outputId": "ecc3cf0e-f00f-4a0b-eae4-bed3eb8989ff"
      },
      "source": [
        "#as we have extracted the values for testing the rest will be used for training and validation\n",
        "data.drop(data.tail(4999).index,\n",
        "        inplace = True)\n",
        "data.info() #after dropping test data"
      ],
      "id": "03ef08d4",
      "execution_count": 21,
      "outputs": [
        {
          "output_type": "stream",
          "name": "stdout",
          "text": [
            "<class 'pandas.core.frame.DataFrame'>\n",
            "DatetimeIndex: 35576 entries, 2012-10-02 09:00:00 to 2018-03-05 23:00:00\n",
            "Data columns (total 3 columns):\n",
            " #   Column          Non-Null Count  Dtype  \n",
            "---  ------          --------------  -----  \n",
            " 0   temp            35576 non-null  float64\n",
            " 1   clouds_all      35576 non-null  int64  \n",
            " 2   traffic_volume  35576 non-null  int64  \n",
            "dtypes: float64(1), int64(2)\n",
            "memory usage: 1.1 MB\n"
          ]
        }
      ]
    },
    {
      "cell_type": "code",
      "metadata": {
        "id": "8a264d4b"
      },
      "source": [
        "#seprat\n",
        "y = data['traffic_volume']\n",
        "X = data.drop(['traffic_volume'], axis=1) #dropping traffic value from the col"
      ],
      "id": "8a264d4b",
      "execution_count": 22,
      "outputs": []
    },
    {
      "cell_type": "code",
      "metadata": {
        "id": "d0ca4c0b"
      },
      "source": [
        "# train_df = x[0:int(n*0.7)]\n",
        "# val_df = x[int(n*0.7):int(n*0.9)]"
      ],
      "id": "d0ca4c0b",
      "execution_count": 23,
      "outputs": []
    },
    {
      "cell_type": "code",
      "metadata": {
        "colab": {
          "base_uri": "https://localhost:8080/"
        },
        "id": "cda1f4f8",
        "outputId": "a35310fe-d225-41de-952a-db392abe9571"
      },
      "source": [
        "y.describe()"
      ],
      "id": "cda1f4f8",
      "execution_count": 24,
      "outputs": [
        {
          "output_type": "execute_result",
          "data": {
            "text/plain": [
              "count    35576.000000\n",
              "mean      3279.625028\n",
              "std       1984.347829\n",
              "min          0.000000\n",
              "25%       1237.000000\n",
              "50%       3404.000000\n",
              "75%       4945.000000\n",
              "max       7280.000000\n",
              "Name: traffic_volume, dtype: float64"
            ]
          },
          "metadata": {},
          "execution_count": 24
        }
      ]
    },
    {
      "cell_type": "code",
      "metadata": {
        "id": "81e713c7"
      },
      "source": [
        "from sklearn.model_selection import train_test_split\n",
        "X_train, X_val, y_train, y_val = train_test_split(X, y, test_size=0.30, random_state=555,shuffle=False)"
      ],
      "id": "81e713c7",
      "execution_count": 25,
      "outputs": []
    },
    {
      "cell_type": "code",
      "metadata": {
        "colab": {
          "base_uri": "https://localhost:8080/"
        },
        "id": "3f6a43f1",
        "outputId": "2e12e54c-3648-4101-baeb-0867f3331189"
      },
      "source": [
        "X_train.shape"
      ],
      "id": "3f6a43f1",
      "execution_count": 26,
      "outputs": [
        {
          "output_type": "execute_result",
          "data": {
            "text/plain": [
              "(24903, 2)"
            ]
          },
          "metadata": {},
          "execution_count": 26
        }
      ]
    },
    {
      "cell_type": "code",
      "metadata": {
        "colab": {
          "base_uri": "https://localhost:8080/"
        },
        "id": "79cf60cd",
        "outputId": "a0c368cc-6202-47c8-c7dd-c223d047cf5e"
      },
      "source": [
        "X_val.shape"
      ],
      "id": "79cf60cd",
      "execution_count": 27,
      "outputs": [
        {
          "output_type": "execute_result",
          "data": {
            "text/plain": [
              "(10673, 2)"
            ]
          },
          "metadata": {},
          "execution_count": 27
        }
      ]
    },
    {
      "cell_type": "code",
      "metadata": {
        "id": "cf68f9cc"
      },
      "source": [
        "# #changing date format\n",
        "# dataIn['clouds_all']=dataIn['clouds_all'].apply(lambda x: float(x))\n",
        "# dataIn['traffic_volume']=dataIn['traffic_volume'].apply(lambda x: float(x))\n",
        "\n",
        "# dataIn['date_time']=pd.to_datetime(dataIn['date_time'],infer_datetime_format=True ) #getting the date format automatcally, as set to True"
      ],
      "id": "cf68f9cc",
      "execution_count": 28,
      "outputs": []
    },
    {
      "cell_type": "code",
      "metadata": {
        "id": "b487cc17"
      },
      "source": [
        "# dataIn.info()"
      ],
      "id": "b487cc17",
      "execution_count": 29,
      "outputs": []
    },
    {
      "cell_type": "code",
      "metadata": {
        "scrolled": false,
        "id": "037247ec"
      },
      "source": [
        "# #Normalizating the dataset\n",
        "# from sklearn.preprocessing import StandardScaler\n",
        "# ss = StandardScaler()\n",
        "# ss.fit(X_train)\n",
        "# X_train = ss.transform(X_train)\n",
        "# X_val = ss.transform(X_val)\n",
        "# X_test = ss.transform(X_test)"
      ],
      "id": "037247ec",
      "execution_count": 30,
      "outputs": []
    },
    {
      "cell_type": "markdown",
      "metadata": {
        "id": "bf1885e9"
      },
      "source": [
        "# Processing data fro lstm"
      ],
      "id": "bf1885e9"
    },
    {
      "cell_type": "code",
      "metadata": {
        "id": "e86ecceb"
      },
      "source": [
        "#we have data every hour, One a day I have 24 data points, we have to take \n",
        "window=3\n",
        "batch_size=32\n",
        "num_featues=4\n",
        "\n",
        "inputwidth=7\n",
        "offset=3"
      ],
      "id": "e86ecceb",
      "execution_count": 31,
      "outputs": []
    },
    {
      "cell_type": "code",
      "metadata": {
        "colab": {
          "base_uri": "https://localhost:8080/",
          "height": 455
        },
        "id": "64410f7b",
        "outputId": "3ea343f9-275c-4873-bc3a-ed372d74aed0"
      },
      "source": [
        "data"
      ],
      "id": "64410f7b",
      "execution_count": 32,
      "outputs": [
        {
          "output_type": "execute_result",
          "data": {
            "text/html": [
              "<div>\n",
              "<style scoped>\n",
              "    .dataframe tbody tr th:only-of-type {\n",
              "        vertical-align: middle;\n",
              "    }\n",
              "\n",
              "    .dataframe tbody tr th {\n",
              "        vertical-align: top;\n",
              "    }\n",
              "\n",
              "    .dataframe thead th {\n",
              "        text-align: right;\n",
              "    }\n",
              "</style>\n",
              "<table border=\"1\" class=\"dataframe\">\n",
              "  <thead>\n",
              "    <tr style=\"text-align: right;\">\n",
              "      <th></th>\n",
              "      <th>temp</th>\n",
              "      <th>clouds_all</th>\n",
              "      <th>traffic_volume</th>\n",
              "    </tr>\n",
              "    <tr>\n",
              "      <th>date_time</th>\n",
              "      <th></th>\n",
              "      <th></th>\n",
              "      <th></th>\n",
              "    </tr>\n",
              "  </thead>\n",
              "  <tbody>\n",
              "    <tr>\n",
              "      <th>2012-10-02 09:00:00</th>\n",
              "      <td>288.28</td>\n",
              "      <td>40</td>\n",
              "      <td>5545</td>\n",
              "    </tr>\n",
              "    <tr>\n",
              "      <th>2012-10-02 10:00:00</th>\n",
              "      <td>289.36</td>\n",
              "      <td>75</td>\n",
              "      <td>4516</td>\n",
              "    </tr>\n",
              "    <tr>\n",
              "      <th>2012-10-02 11:00:00</th>\n",
              "      <td>289.58</td>\n",
              "      <td>90</td>\n",
              "      <td>4767</td>\n",
              "    </tr>\n",
              "    <tr>\n",
              "      <th>2012-10-02 12:00:00</th>\n",
              "      <td>290.13</td>\n",
              "      <td>90</td>\n",
              "      <td>5026</td>\n",
              "    </tr>\n",
              "    <tr>\n",
              "      <th>2012-10-02 13:00:00</th>\n",
              "      <td>291.14</td>\n",
              "      <td>75</td>\n",
              "      <td>4918</td>\n",
              "    </tr>\n",
              "    <tr>\n",
              "      <th>...</th>\n",
              "      <td>...</td>\n",
              "      <td>...</td>\n",
              "      <td>...</td>\n",
              "    </tr>\n",
              "    <tr>\n",
              "      <th>2018-03-05 19:00:00</th>\n",
              "      <td>271.65</td>\n",
              "      <td>90</td>\n",
              "      <td>1117</td>\n",
              "    </tr>\n",
              "    <tr>\n",
              "      <th>2018-03-05 20:00:00</th>\n",
              "      <td>271.28</td>\n",
              "      <td>90</td>\n",
              "      <td>844</td>\n",
              "    </tr>\n",
              "    <tr>\n",
              "      <th>2018-03-05 21:00:00</th>\n",
              "      <td>271.15</td>\n",
              "      <td>90</td>\n",
              "      <td>753</td>\n",
              "    </tr>\n",
              "    <tr>\n",
              "      <th>2018-03-05 22:00:00</th>\n",
              "      <td>271.15</td>\n",
              "      <td>90</td>\n",
              "      <td>694</td>\n",
              "    </tr>\n",
              "    <tr>\n",
              "      <th>2018-03-05 23:00:00</th>\n",
              "      <td>271.36</td>\n",
              "      <td>90</td>\n",
              "      <td>599</td>\n",
              "    </tr>\n",
              "  </tbody>\n",
              "</table>\n",
              "<p>35576 rows × 3 columns</p>\n",
              "</div>"
            ],
            "text/plain": [
              "                       temp  clouds_all  traffic_volume\n",
              "date_time                                              \n",
              "2012-10-02 09:00:00  288.28          40            5545\n",
              "2012-10-02 10:00:00  289.36          75            4516\n",
              "2012-10-02 11:00:00  289.58          90            4767\n",
              "2012-10-02 12:00:00  290.13          90            5026\n",
              "2012-10-02 13:00:00  291.14          75            4918\n",
              "...                     ...         ...             ...\n",
              "2018-03-05 19:00:00  271.65          90            1117\n",
              "2018-03-05 20:00:00  271.28          90             844\n",
              "2018-03-05 21:00:00  271.15          90             753\n",
              "2018-03-05 22:00:00  271.15          90             694\n",
              "2018-03-05 23:00:00  271.36          90             599\n",
              "\n",
              "[35576 rows x 3 columns]"
            ]
          },
          "metadata": {},
          "execution_count": 32
        }
      ]
    },
    {
      "cell_type": "code",
      "metadata": {
        "id": "e3b1496f"
      },
      "source": [
        "column_indices = {name: i for i, name in enumerate(data.columns)}\n",
        "\n",
        "n = len(data)\n",
        "train_df = data[0:int(n*0.8)]\n",
        "val_df = data[int(n*0.8):]\n",
        "test_df \n",
        "\n",
        "num_features = data.shape[1]"
      ],
      "id": "e3b1496f",
      "execution_count": 33,
      "outputs": []
    },
    {
      "cell_type": "code",
      "metadata": {
        "colab": {
          "base_uri": "https://localhost:8080/"
        },
        "id": "6fb8f981",
        "outputId": "11b9d962-2fdb-41d9-d852-fe93d6a84d6d"
      },
      "source": [
        "val_df.shape"
      ],
      "id": "6fb8f981",
      "execution_count": 34,
      "outputs": [
        {
          "output_type": "execute_result",
          "data": {
            "text/plain": [
              "(7116, 3)"
            ]
          },
          "metadata": {},
          "execution_count": 34
        }
      ]
    },
    {
      "cell_type": "code",
      "metadata": {
        "colab": {
          "base_uri": "https://localhost:8080/"
        },
        "id": "17ec8a03",
        "outputId": "324306c7-ea49-4535-d84c-9c11a6a79015"
      },
      "source": [
        "train_df.shape"
      ],
      "id": "17ec8a03",
      "execution_count": 35,
      "outputs": [
        {
          "output_type": "execute_result",
          "data": {
            "text/plain": [
              "(28460, 3)"
            ]
          },
          "metadata": {},
          "execution_count": 35
        }
      ]
    },
    {
      "cell_type": "code",
      "metadata": {
        "colab": {
          "base_uri": "https://localhost:8080/"
        },
        "id": "a14ed02c",
        "outputId": "bda92b8a-4e50-4a53-9055-ea13c3691ef6"
      },
      "source": [
        "column_indices"
      ],
      "id": "a14ed02c",
      "execution_count": 36,
      "outputs": [
        {
          "output_type": "execute_result",
          "data": {
            "text/plain": [
              "{'clouds_all': 1, 'temp': 0, 'traffic_volume': 2}"
            ]
          },
          "metadata": {},
          "execution_count": 36
        }
      ]
    },
    {
      "cell_type": "code",
      "metadata": {
        "id": "cfacd995"
      },
      "source": [
        "train_mean = train_df.mean()\n",
        "train_std = train_df.std()\n",
        "\n",
        "train_df = (train_df - train_mean) / train_std\n",
        "val_df = (val_df - train_mean) / train_std\n",
        "test_df = (test_df - train_mean) / train_std"
      ],
      "id": "cfacd995",
      "execution_count": 37,
      "outputs": []
    },
    {
      "cell_type": "code",
      "metadata": {
        "colab": {
          "base_uri": "https://localhost:8080/",
          "height": 280
        },
        "id": "0b45a758",
        "outputId": "291f754e-5db5-41d3-88d1-2bf902c0e3ce"
      },
      "source": [
        "df_std = (data - train_mean) / train_std\n",
        "df_std = df_std.melt(var_name='Column', value_name='Normalized')\n",
        "\n",
        "ax = sns.violinplot(x='Column', y='Normalized', data=df_std)\n"
      ],
      "id": "0b45a758",
      "execution_count": 38,
      "outputs": [
        {
          "output_type": "display_data",
          "data": {
            "image/png": "[encoded data removed]",
            "text/plain": [
              "<Figure size 432x288 with 1 Axes>"
            ]
          },
          "metadata": {
            "needs_background": "light"
          }
        }
      ]
    },
    {
      "cell_type": "markdown",
      "metadata": {
        "id": "2ccc9556"
      },
      "source": [
        "Data is normalized, there are no obvious errors"
      ],
      "id": "2ccc9556"
    },
    {
      "cell_type": "code",
      "metadata": {
        "id": "74fe5f3a"
      },
      "source": [
        "class WindowGenerator():\n",
        "  def __init__(self, input_width, label_width, shift,\n",
        "               train_df=train_df, val_df=val_df, test_df=test_df,\n",
        "               label_columns=None):\n",
        "    # Store the raw data.\n",
        "    self.train_df = train_df\n",
        "    self.val_df = val_df\n",
        "    self.test_df = test_df\n",
        "\n",
        "    # Work out the label column indices.\n",
        "    self.label_columns = label_columns\n",
        "    if label_columns is not None:\n",
        "      self.label_columns_indices = {name: i for i, name in\n",
        "                                    enumerate(label_columns)}\n",
        "    self.column_indices = {name: i for i, name in\n",
        "                           enumerate(train_df.columns)}\n",
        "\n",
        "    # Work out the window parameters.\n",
        "    self.input_width = input_width\n",
        "    self.label_width = label_width\n",
        "    self.shift = shift\n",
        "\n",
        "    self.total_window_size = input_width + shift\n",
        "\n",
        "    self.input_slice = slice(0, input_width)\n",
        "    self.input_indices = np.arange(self.total_window_size)[self.input_slice]\n",
        "\n",
        "    self.label_start = self.total_window_size - self.label_width\n",
        "    self.labels_slice = slice(self.label_start, None)\n",
        "    self.label_indices = np.arange(self.total_window_size)[self.labels_slice]\n",
        "\n",
        "  def __repr__(self):\n",
        "    return '\\n'.join([\n",
        "        f'Total window size: {self.total_window_size}',\n",
        "        f'Input indices: {self.input_indices}',\n",
        "        f'Label indices: {self.label_indices}',\n",
        "        f'Label column name(s): {self.label_columns}'])"
      ],
      "id": "74fe5f3a",
      "execution_count": 39,
      "outputs": []
    },
    {
      "cell_type": "code",
      "metadata": {
        "colab": {
          "base_uri": "https://localhost:8080/"
        },
        "id": "0942778f",
        "outputId": "fba00415-97b2-46c1-b3d6-0b20fddce7d9"
      },
      "source": [
        "window_7_1_3 = WindowGenerator(input_width=7, label_width=1, shift=2,\n",
        "                     label_columns=['traffic_volume'])\n",
        "window_7_1_3"
      ],
      "id": "0942778f",
      "execution_count": 40,
      "outputs": [
        {
          "output_type": "execute_result",
          "data": {
            "text/plain": [
              "Total window size: 9\n",
              "Input indices: [0 1 2 3 4 5 6]\n",
              "Label indices: [8]\n",
              "Label column name(s): ['traffic_volume']"
            ]
          },
          "metadata": {},
          "execution_count": 40
        }
      ]
    },
    {
      "cell_type": "code",
      "metadata": {
        "id": "a20597be"
      },
      "source": [
        "def split_window(self, features):\n",
        "  inputs = features[:, self.input_slice, :]\n",
        "  labels = features[:, self.labels_slice, :]\n",
        "  if self.label_columns is not None:\n",
        "    labels = tf.stack(\n",
        "        [labels[:, :, self.column_indices[name]] for name in self.label_columns],\n",
        "        axis=-1)\n",
        "\n",
        "  # Slicing doesn't preserve static shape information, so set the shapes\n",
        "  # manually. This way the `tf.data.Datasets` are easier to inspect.\n",
        "  inputs.set_shape([None, self.input_width, None])\n",
        "  labels.set_shape([None, self.label_width, None])\n",
        "\n",
        "  return inputs, labels\n",
        "\n",
        "WindowGenerator.split_window = split_window"
      ],
      "id": "a20597be",
      "execution_count": 41,
      "outputs": []
    },
    {
      "cell_type": "code",
      "metadata": {
        "colab": {
          "base_uri": "https://localhost:8080/"
        },
        "id": "6d20dffb",
        "outputId": "2fe6e561-1c47-4bb0-88e1-915aa6cfa4ae"
      },
      "source": [
        "# Stack three slices, the length of the total window.\n",
        "example_window = tf.stack([np.array(train_df[:window_7_1_3.total_window_size]),\n",
        "                           np.array(train_df[100:100+window_7_1_3.total_window_size]),\n",
        "                           np.array(train_df[200:200+window_7_1_3.total_window_size])])\n",
        "\n",
        "example_inputs, example_labels = window_7_1_3.split_window(example_window)\n",
        "\n",
        "print('All shapes are: (batch, time, features)')\n",
        "print(f'Window shape: {example_window.shape}')\n",
        "print(f'Inputs shape: {example_inputs.shape}')\n",
        "print(f'Labels shape: {example_labels.shape}')"
      ],
      "id": "6d20dffb",
      "execution_count": 42,
      "outputs": [
        {
          "output_type": "stream",
          "name": "stdout",
          "text": [
            "All shapes are: (batch, time, features)\n",
            "Window shape: (3, 9, 3)\n",
            "Inputs shape: (3, 7, 3)\n",
            "Labels shape: (3, 1, 1)\n"
          ]
        }
      ]
    },
    {
      "cell_type": "code",
      "metadata": {
        "id": "6091f104"
      },
      "source": [
        "def plot(self, model=None, plot_col='traffic_volume', max_subplots=3):\n",
        "  inputs, labels = self.example\n",
        "  plt.figure(figsize=(12, 8))\n",
        "  plot_col_index = self.column_indices[plot_col]\n",
        "  max_n = min(max_subplots, len(inputs))\n",
        "  for n in range(max_n):\n",
        "    plt.subplot(max_n, 1, n+1)\n",
        "    plt.ylabel(f'{plot_col} [normed]')\n",
        "    plt.plot(self.input_indices, inputs[n, :, plot_col_index],\n",
        "             label='Inputs', marker='.', zorder=-10)\n",
        "\n",
        "    if self.label_columns:\n",
        "      label_col_index = self.label_columns_indices.get(plot_col, None)\n",
        "    else:\n",
        "      label_col_index = plot_col_index\n",
        "\n",
        "    if label_col_index is None:\n",
        "      continue\n",
        "\n",
        "    plt.scatter(self.label_indices, labels[n, :, label_col_index],\n",
        "                edgecolors='k', label='Labels', c='#2ca02c', s=64)\n",
        "    if model is not None:\n",
        "      predictions = model(inputs)\n",
        "      plt.scatter(self.label_indices, predictions[n, :, label_col_index],\n",
        "                  marker='X', edgecolors='k', label='Predictions',\n",
        "                  c='#ff7f0e', s=64)\n",
        "\n",
        "    if n == 0:\n",
        "      plt.legend()\n",
        "\n",
        "  plt.xlabel('Time [h]')\n",
        "\n",
        "WindowGenerator.plot = plot"
      ],
      "id": "6091f104",
      "execution_count": 43,
      "outputs": []
    },
    {
      "cell_type": "code",
      "metadata": {
        "id": "fb212db6"
      },
      "source": [
        "window_7_1_3.example = example_inputs, example_labels"
      ],
      "id": "fb212db6",
      "execution_count": 44,
      "outputs": []
    },
    {
      "cell_type": "code",
      "metadata": {
        "colab": {
          "base_uri": "https://localhost:8080/",
          "height": 497
        },
        "id": "18cad175",
        "outputId": "2005cf58-9def-4b00-af95-346cd1c0868e"
      },
      "source": [
        "window_7_1_3.plot()"
      ],
      "id": "18cad175",
      "execution_count": 45,
      "outputs": [
        {
          "output_type": "display_data",
          "data": {
            "image/png": "[encoded data removed]",
            "text/plain": [
              "<Figure size 864x576 with 3 Axes>"
            ]
          },
          "metadata": {
            "needs_background": "light"
          }
        }
      ]
    },
    {
      "cell_type": "code",
      "metadata": {
        "colab": {
          "base_uri": "https://localhost:8080/"
        },
        "id": "1cc184ae",
        "outputId": "06c052c2-a096-4a33-badc-519f3676b518"
      },
      "source": [
        "example_inputs, example_labels = window_7_1_3.split_window(example_window)\n",
        "\n",
        "print('All shapes are: (batch, time, features)')\n",
        "print(f'Window shape: {example_window.shape}')\n",
        "print(f'Inputs shape: {example_inputs.shape}')\n",
        "print(f'Labels shape: {example_labels.shape}')"
      ],
      "id": "1cc184ae",
      "execution_count": 46,
      "outputs": [
        {
          "output_type": "stream",
          "name": "stdout",
          "text": [
            "All shapes are: (batch, time, features)\n",
            "Window shape: (3, 9, 3)\n",
            "Inputs shape: (3, 7, 3)\n",
            "Labels shape: (3, 1, 1)\n"
          ]
        }
      ]
    },
    {
      "cell_type": "code",
      "metadata": {
        "colab": {
          "base_uri": "https://localhost:8080/"
        },
        "id": "ba6d3b1a",
        "outputId": "6b65779e-9e04-49e0-9ff9-c65b23c00d7a"
      },
      "source": [
        "window_7_1_3"
      ],
      "id": "ba6d3b1a",
      "execution_count": 47,
      "outputs": [
        {
          "output_type": "execute_result",
          "data": {
            "text/plain": [
              "Total window size: 9\n",
              "Input indices: [0 1 2 3 4 5 6]\n",
              "Label indices: [8]\n",
              "Label column name(s): ['traffic_volume']"
            ]
          },
          "metadata": {},
          "execution_count": 47
        }
      ]
    },
    {
      "cell_type": "markdown",
      "metadata": {
        "id": "2ca2c0cd"
      },
      "source": [
        "# For baseline model"
      ],
      "id": "2ca2c0cd"
    },
    {
      "cell_type": "code",
      "metadata": {
        "id": "1cfd0e6a"
      },
      "source": [
        "class Baseline(tf.keras.Model):\n",
        "  def __init__(self, label_index=None):\n",
        "    super().__init__()\n",
        "    self.label_index = label_index\n",
        "\n",
        "  def call(self, inputs):\n",
        "    if self.label_index is None:\n",
        "      return inputs\n",
        "    result = inputs[:, :, self.label_index]\n",
        "    return result[:, :, tf.newaxis]"
      ],
      "id": "1cfd0e6a",
      "execution_count": 48,
      "outputs": []
    },
    {
      "cell_type": "code",
      "metadata": {
        "colab": {
          "base_uri": "https://localhost:8080/"
        },
        "id": "1c42a090",
        "outputId": "d3286716-0969-4c29-f26b-6da5fbc5d637"
      },
      "source": [
        "single_step_window = WindowGenerator(\n",
        "    input_width=1, label_width=1, shift=1,\n",
        "    label_columns=['traffic_volume'])\n",
        "single_step_window"
      ],
      "id": "1c42a090",
      "execution_count": 49,
      "outputs": [
        {
          "output_type": "execute_result",
          "data": {
            "text/plain": [
              "Total window size: 2\n",
              "Input indices: [0]\n",
              "Label indices: [1]\n",
              "Label column name(s): ['traffic_volume']"
            ]
          },
          "metadata": {},
          "execution_count": 49
        }
      ]
    },
    {
      "cell_type": "code",
      "metadata": {
        "id": "591ae6d8"
      },
      "source": [
        "# baseline = Baseline(label_index=column_indices['traffic_volume'])\n",
        "\n",
        "# baseline.compile(loss=tf.losses.MeanSquaredError(),\n",
        "#                  metrics=[tf.metrics.MeanAbsoluteError()])\n",
        "\n",
        "# val_performance = {}\n",
        "# performance = {}\n",
        "# val_performance['Baseline'] = baseline.evaluate(single_step_window.val)\n",
        "# performance['Baseline'] = baseline.evaluate(single_step_window.test, verbose=0)"
      ],
      "id": "591ae6d8",
      "execution_count": 50,
      "outputs": []
    },
    {
      "cell_type": "markdown",
      "metadata": {
        "id": "62521a38"
      },
      "source": [
        "# Rnn model"
      ],
      "id": "62521a38"
    },
    {
      "cell_type": "code",
      "metadata": {
        "id": "925b85ec"
      },
      "source": [
        "lstm_model = tf.keras.models.Sequential([\n",
        "    # Shape [batch, time, features] => [batch, time, lstm_units]\n",
        "    tf.keras.layers.LSTM(32, return_sequences=True),\n",
        "    # Shape => [batch, time, features]\n",
        "    tf.keras.layers.Dense(units=1)\n",
        "])"
      ],
      "id": "925b85ec",
      "execution_count": 51,
      "outputs": []
    },
    {
      "cell_type": "code",
      "metadata": {
        "colab": {
          "base_uri": "https://localhost:8080/"
        },
        "id": "cc97bd24",
        "outputId": "98f6aea1-2775-4f25-b688-5b981210c15d"
      },
      "source": [
        "print('Input shape:', window_7_1_3.example[0].shape)\n",
        "print('Output shape:', lstm_model(window_7_1_3.example[0]).shape)"
      ],
      "id": "cc97bd24",
      "execution_count": 52,
      "outputs": [
        {
          "output_type": "stream",
          "name": "stdout",
          "text": [
            "Input shape: (3, 7, 3)\n",
            "Output shape: (3, 7, 1)\n"
          ]
        }
      ]
    },
    {
      "cell_type": "code",
      "metadata": {
        "id": "15ac599c"
      },
      "source": [
        "def make_dataset(self, data):\n",
        "  data = np.array(data, dtype=np.float32)\n",
        "  ds = tf.keras.preprocessing.timeseries_dataset_from_array(\n",
        "      data=data,\n",
        "      targets=None,\n",
        "      sequence_length=self.total_window_size,\n",
        "      sequence_stride=1,\n",
        "      shuffle=True,\n",
        "      batch_size=32,)\n",
        "\n",
        "  ds = ds.map(self.split_window)\n",
        "\n",
        "  return ds\n",
        "\n",
        "WindowGenerator.make_dataset = make_dataset"
      ],
      "id": "15ac599c",
      "execution_count": 53,
      "outputs": []
    },
    {
      "cell_type": "code",
      "metadata": {
        "id": "79d22515"
      },
      "source": [
        "@property\n",
        "def train(self):\n",
        "  return self.make_dataset(self.train_df)\n",
        "\n",
        "@property\n",
        "def val(self):\n",
        "  return self.make_dataset(self.val_df)\n",
        "\n",
        "@property\n",
        "def test(self):\n",
        "  return self.make_dataset(self.test_df)\n",
        "\n",
        "@property\n",
        "def example(self):\n",
        "  \"\"\"Get and cache an example batch of `inputs, labels` for plotting.\"\"\"\n",
        "  result = getattr(self, '_example', None)\n",
        "  if result is None:\n",
        "    # No example batch was found, so get one from the `.train` dataset\n",
        "    result = next(iter(self.train))\n",
        "    # And cache it for next time\n",
        "    self._example = result\n",
        "  return result\n",
        "\n",
        "WindowGenerator.train = train\n",
        "WindowGenerator.val = val\n",
        "WindowGenerator.test = test\n",
        "WindowGenerator.example = example"
      ],
      "id": "79d22515",
      "execution_count": 54,
      "outputs": []
    },
    {
      "cell_type": "code",
      "metadata": {
        "id": "b895cd91"
      },
      "source": [
        "MAX_EPOCHS = 50\n",
        "\n",
        "def compile_and_fit(model, window, patience=2):\n",
        "  early_stopping = tf.keras.callbacks.EarlyStopping(monitor='val_loss',\n",
        "                                                    patience=patience,\n",
        "                                                    mode='min')\n",
        "\n",
        "  model.compile(loss=tf.losses.MeanSquaredError(),\n",
        "                optimizer=tf.optimizers.Adam(),\n",
        "                metrics=[tf.metrics.MeanAbsoluteError()])\n",
        "\n",
        "  history = model.fit(window.train, epochs=MAX_EPOCHS,\n",
        "                      validation_data=window.val,\n",
        "                      callbacks=[early_stopping])\n",
        "  return history"
      ],
      "id": "b895cd91",
      "execution_count": 55,
      "outputs": []
    },
    {
      "cell_type": "code",
      "metadata": {
        "colab": {
          "base_uri": "https://localhost:8080/"
        },
        "id": "2b4898c1",
        "outputId": "74567739-b827-4639-e418-0e6794b88893"
      },
      "source": [
        "history = compile_and_fit(lstm_model, window_7_1_3)\n",
        "val_performance = {}\n",
        "performance = {}\n",
        "IPython.display.clear_output()\n",
        "val_performance['LSTM'] = lstm_model.evaluate(window_7_1_3.val)\n",
        "performance['LSTM'] = lstm_model.evaluate(window_7_1_3.test, verbose=0)"
      ],
      "id": "2b4898c1",
      "execution_count": 56,
      "outputs": [
        {
          "output_type": "stream",
          "name": "stdout",
          "text": [
            "223/223 [==============================] - 2s 7ms/step - loss: 0.2985 - mean_absolute_error: 0.3901\n"
          ]
        }
      ]
    },
    {
      "cell_type": "code",
      "metadata": {
        "id": "6601b6ba"
      },
      "source": [
        "from sklearn import metrics\n",
        "def mean_absolute_percentage_error(y_true, y_pred): \n",
        "    y_true, y_pred = np.array(y_true), np.array(y_pred)\n",
        "        return np.mean(np.abs((y_true - y_pred) / y_true)) * 100\n",
        "    print('Evaluation metric results:-')\n",
        "    print(f'MSE is : {metrics.mean_squared_error(y_true, y_pred)}')\n",
        "    print(f'MAE is : {metrics.mean_absolute_error(y_true, y_pred)}')\n",
        "    print(f'RMSE is : {np.sqrt(metrics.mean_squared_error(y_true, y_pred))}')\n",
        "    print(f'MAPE is : {mean_absolute_percentage_error(y_true, y_pred)}')\n",
        "    print(f'R2 is : {metrics.r2_score(y_true, y_pred)}',end='\\n\\n')"
      ],
      "id": "6601b6ba",
      "execution_count": 57,
      "outputs": []
    },
    {
      "cell_type": "code",
      "metadata": {
        "id": "0d055cf7"
      },
      "source": [
        ""
      ],
      "id": "0d055cf7",
      "execution_count": 57,
      "outputs": []
    },
    {
      "cell_type": "code",
      "metadata": {
        "colab": {
          "base_uri": "https://localhost:8080/"
        },
        "id": "Sv_BfUjPLwKo",
        "outputId": "4a5066ea-20b9-4c70-c94d-df21f42089d6"
      },
      "source": [
        "target_output = np.expand_dims(test_df, axis=0)\n",
        "predictions = lstm_model.predict(target_output)\n",
        "print(predictions.shape)\n",
        "\n",
        "predict = pd.DataFrame(np.concatenate(predictions))\n",
        "print(predict.head())\n",
        "\n",
        "mean = train_mean['traffic_volume']\n",
        "print(\"Mean:\", mean)\n",
        "std = train_std['traffic_volume']\n",
        "print(\"Standardization:\", std)\n",
        "\n",
        "pred_denormalized = []\n",
        "for i in range(predict.shape[0]):\n",
        "    denormalized = predict[0][i]*std + mean  # denormalize)\n",
        "    pred_denormalized.append(denormalized)\n",
        "\n",
        "predicted = pd.DataFrame(pred_denormalized)\n",
        "predicted = predicted[8:]\n",
        "predicted.columns=['prediction']\n",
        "predicted.index = np.arange(0,len(predicted))\n",
        "\n",
        "idx = test_df[8:].index\n",
        "print(idx)\n",
        "predicted.loc[:,'id'] =  np.arange(1, 4992)\n",
        "cols = predicted.columns.tolist()\n",
        "cols = cols[-1:] + cols[:-1]\n",
        "predicted = predicted[cols]\n",
        "\n",
        "predicted = predicted.set_index('id')\n",
        "predicted.to_csv('Umaima_final.csv')"
      ],
      "id": "Sv_BfUjPLwKo",
      "execution_count": 58,
      "outputs": [
        {
          "output_type": "stream",
          "name": "stdout",
          "text": [
            "(1, 4999, 1)\n",
            "          0\n",
            "0  0.762424\n",
            "1  0.642243\n",
            "2  0.582091\n",
            "3  0.469845\n",
            "4  0.590766\n",
            "Mean: 3266.2906535488405\n",
            "Standardization: 1989.6928366367658\n",
            "DatetimeIndex(['2018-03-06 08:00:00', '2018-03-06 09:00:00',\n",
            "               '2018-03-06 10:00:00', '2018-03-06 11:00:00',\n",
            "               '2018-03-06 12:00:00', '2018-03-06 13:00:00',\n",
            "               '2018-03-06 14:00:00', '2018-03-06 15:00:00',\n",
            "               '2018-03-06 16:00:00', '2018-03-06 17:00:00',\n",
            "               ...\n",
            "               '2018-09-30 14:00:00', '2018-09-30 15:00:00',\n",
            "               '2018-09-30 16:00:00', '2018-09-30 17:00:00',\n",
            "               '2018-09-30 18:00:00', '2018-09-30 19:00:00',\n",
            "               '2018-09-30 20:00:00', '2018-09-30 21:00:00',\n",
            "               '2018-09-30 22:00:00', '2018-09-30 23:00:00'],\n",
            "              dtype='datetime64[ns]', name='date_time', length=4991, freq=None)\n"
          ]
        }
      ]
    }
  ]
}